{
 "cells": [
  {
   "cell_type": "code",
   "execution_count": 1,
   "id": "6dca81b1",
   "metadata": {},
   "outputs": [],
   "source": [
    "import requests\n",
    "from lxml import objectify"
   ]
  },
  {
   "cell_type": "code",
   "execution_count": 2,
   "id": "22b7d180",
   "metadata": {},
   "outputs": [
    {
     "ename": "NameError",
     "evalue": "name 'res' is not defined",
     "output_type": "error",
     "traceback": [
      "\u001b[1;31m---------------------------------------------------------------------------\u001b[0m",
      "\u001b[1;31mNameError\u001b[0m                                 Traceback (most recent call last)",
      "\u001b[1;32m<ipython-input-2-b5b1fdb94ad7>\u001b[0m in \u001b[0;36m<module>\u001b[1;34m\u001b[0m\n\u001b[0;32m      1\u001b[0m \u001b[0mopen_url\u001b[0m\u001b[1;33m=\u001b[0m\u001b[1;34m'http://api.nongsaro.go.kr/service/garden/gardenList?apiKey=20210823CNMXUAR9TUPGCEZDYLKQ'\u001b[0m\u001b[1;33m\u001b[0m\u001b[1;33m\u001b[0m\u001b[0m\n\u001b[0;32m      2\u001b[0m \u001b[0mresp\u001b[0m \u001b[1;33m=\u001b[0m \u001b[0mrequests\u001b[0m\u001b[1;33m.\u001b[0m\u001b[0mpost\u001b[0m\u001b[1;33m(\u001b[0m\u001b[0mopen_url\u001b[0m\u001b[1;33m)\u001b[0m\u001b[1;33m\u001b[0m\u001b[1;33m\u001b[0m\u001b[0m\n\u001b[1;32m----> 3\u001b[1;33m \u001b[0mres\u001b[0m\u001b[1;33m.\u001b[0m\u001b[0mraise_for_status\u001b[0m\u001b[1;33m(\u001b[0m\u001b[1;33m)\u001b[0m\u001b[1;33m\u001b[0m\u001b[1;33m\u001b[0m\u001b[0m\n\u001b[0m\u001b[0;32m      4\u001b[0m \u001b[0msoup\u001b[0m \u001b[1;33m=\u001b[0m \u001b[0mBeautifulSoup\u001b[0m\u001b[1;33m(\u001b[0m\u001b[0mres\u001b[0m\u001b[1;33m.\u001b[0m\u001b[0mtext\u001b[0m\u001b[1;33m,\u001b[0m \u001b[1;34m\"html.parser\"\u001b[0m\u001b[1;33m)\u001b[0m\u001b[1;33m\u001b[0m\u001b[1;33m\u001b[0m\u001b[0m\n",
      "\u001b[1;31mNameError\u001b[0m: name 'res' is not defined"
     ]
    }
   ],
   "source": [
    "open_url='http://api.nongsaro.go.kr/service/garden/gardenList?apiKey=20210823CNMXUAR9TUPGCEZDYLKQ'\n",
    "resp = requests.post(open_url)\n",
    "res.raise_for_status()\n",
    "soup = BeautifulSoup(res.text, \"html.parser\")\n"
   ]
  },
  {
   "cell_type": "code",
   "execution_count": 3,
   "id": "9c2f8174",
   "metadata": {},
   "outputs": [
    {
     "data": {
      "text/plain": [
       "<Response [200]>"
      ]
     },
     "execution_count": 3,
     "metadata": {},
     "output_type": "execute_result"
    }
   ],
   "source": [
    "url = 'http://api.nongsaro.go.kr/service/garden/gardenList'\n",
    "data = {'apiKey': '20210823CNMXUAR9TUPGCEZDYLKQ'}\n",
    "resp = requests.post(url, data=data)\n",
    "resp"
   ]
  },
  {
   "cell_type": "code",
   "execution_count": 7,
   "id": "bf2f29a4",
   "metadata": {},
   "outputs": [
    {
     "data": {
      "text/plain": [
       "{'response': {'header': {'resultCode': '00',\n",
       "   'resultMsg': '정상적으로 처리되었습니다.',\n",
       "   'requestParameter': None},\n",
       "  'body': {'items': {'item': [{'cntntsNo': '12938',\n",
       "      'cntntsSj': '가울테리아',\n",
       "      'rtnFileCours': 'cms_contents/301|cms_contents/301|cms_contents/301|cms_contents/301|cms_contents/301|cms_contents/301|cms_contents/301',\n",
       "      'rtnFileSeCode': '185002|185002|185002|185002|185002|185002|185002',\n",
       "      'rtnFileSn': '1|2|3|4|5|6|7',\n",
       "      'rtnImageDc': '가울테리아|가울테리아|가울테리아|가울테리아|가울테리아|가울테리아|가울테리아',\n",
       "      'rtnImgSeCode': '209002|209002|209002|209002|209002|209002|209006',\n",
       "      'rtnOrginlFileNm': '가울테리아(1).jpg|가울테리아1(5).jpg|가울테리아1(6).jpg|가울테리아1(7).jpg|가울테리아1(8).jpg|가울테리아1(10).jpg|가울테리아1(12).jpg',\n",
       "      'rtnStreFileNm': '12938_MF_ATTACH_01.jpg|12938_MF_ATTACH_02.jpg|12938_MF_ATTACH_03.jpg|12938_MF_ATTACH_04.jpg|12938_MF_ATTACH_05.jpg|12938_MF_ATTACH_06.jpg|12938_MF_REPR_ATTACH_01.jpg',\n",
       "      'rtnThumbFileNm': '12938_MF_ATTACH_01_TMB.jpg|12938_MF_ATTACH_02_TMB.jpg|12938_MF_ATTACH_03_TMB.jpg|12938_MF_ATTACH_04_TMB.jpg|12938_MF_ATTACH_05_TMB.jpg|12938_MF_ATTACH_06_TMB.jpg|12938_MF_REPR_ATTACH_01_TMB.jpg'},\n",
       "     {'cntntsNo': '12954',\n",
       "      'cntntsSj': '개운죽',\n",
       "      'rtnFileCours': 'cms_contents/301|cms_contents/301|cms_contents/301|cms_contents/301|cms_contents/301|cms_contents/301',\n",
       "      'rtnFileSeCode': '185002|185002|185002|185002|185002|185002',\n",
       "      'rtnFileSn': '1|2|3|4|5|6',\n",
       "      'rtnImageDc': '개운죽|개운죽|개운죽|개운죽|개운죽|개운죽',\n",
       "      'rtnImgSeCode': '209002|209002|209002|209002|209002|209006',\n",
       "      'rtnOrginlFileNm': '개운죽.jpg|드라세나산데나리아1.jpg|드라세나산데나리아1(1).jpg|드라세나산데나리아1(2).jpg|드라세나산데나리아1(3).jpg|드라세나산데나리아1(7).jpg',\n",
       "      'rtnStreFileNm': '12954_MF_ATTACH_01.jpg|12954_MF_ATTACH_02.jpg|12954_MF_ATTACH_03.jpg|12954_MF_ATTACH_04.jpg|12954_MF_ATTACH_05.jpg|12954_MF_REPR_ATTACH_01.jpg',\n",
       "      'rtnThumbFileNm': '12954_MF_ATTACH_01_TMB.jpg|12954_MF_ATTACH_02_TMB.jpg|12954_MF_ATTACH_03_TMB.jpg|12954_MF_ATTACH_04_TMB.jpg|12954_MF_ATTACH_05_TMB.jpg|12954_MF_REPR_ATTACH_01_TMB.jpg'},\n",
       "     {'cntntsNo': '12955',\n",
       "      'cntntsSj': \"골드크레스트 '윌마'\",\n",
       "      'rtnFileCours': 'cms_contents/301|cms_contents/301|cms_contents/301|cms_contents/301|cms_contents/301|cms_contents/301|cms_contents/301|cms_contents/301|cms_contents/301',\n",
       "      'rtnFileSeCode': '185002|185002|185002|185002|185002|185002|185002|185002|185002',\n",
       "      'rtnFileSn': '1|2|3|4|5|6|7|8|9',\n",
       "      'rtnImageDc': \"골드크레스트 '윌마' 중|골드크레스트 '윌마' 하|골드크레스트 '윌마'|골드크레스트 '윌마'|골드크레스트 '윌마'|골드크레스트 '윌마'|골드크레스트 '윌마'|골드크레스트 '윌마'|골드크레스트 '윌마'\",\n",
       "      'rtnImgSeCode': '209002|209002|209002|209002|209002|209002|209002|209002|209006',\n",
       "      'rtnOrginlFileNm': 'P20013_골드크레스트윌마_중.jpg|P30032_골드크레스트윌마_하.jpg|골드크레스트-윌마(1).jpg|골드크레스트-윌마(5).jpg|골드크레스트-윌마(7).jpg|골드크레스트-윌마(11).jpg|골드크레스트-윌마(15).jpg|골드크레스트-윌마(19).jpg|골드크레스트-윌마(32).jpg',\n",
       "      'rtnStreFileNm': '12955_MF_ATTACH_01.jpg|12955_MF_ATTACH_02.jpg|12955_MF_ATTACH_03.jpg|12955_MF_ATTACH_04.jpg|12955_MF_ATTACH_05.jpg|12955_MF_ATTACH_06.jpg|12955_MF_ATTACH_07.jpg|12955_MF_ATTACH_08.jpg|12955_MF_REPR_ATTACH_01.jpg',\n",
       "      'rtnThumbFileNm': '12955_MF_ATTACH_01_TMB.jpg|12955_MF_ATTACH_02_TMB.jpg|12955_MF_ATTACH_03_TMB.jpg|12955_MF_ATTACH_04_TMB.jpg|12955_MF_ATTACH_05_TMB.jpg|12955_MF_ATTACH_06_TMB.jpg|12955_MF_ATTACH_07_TMB.jpg|12955_MF_ATTACH_08_TMB.jpg|12955_MF_REPR_ATTACH_01_TMB.jpg'},\n",
       "     {'cntntsNo': '12957',\n",
       "      'cntntsSj': '공작야자',\n",
       "      'rtnFileCours': 'cms_contents/301|cms_contents/301|cms_contents/301|cms_contents/301|cms_contents/301|cms_contents/301',\n",
       "      'rtnFileSeCode': '185002|185002|185002|185002|185002|185002',\n",
       "      'rtnFileSn': '1|2|3|4|5|6',\n",
       "      'rtnImageDc': '공작야자|공작야자|공작야자|공작야자|공작야자|공작야자',\n",
       "      'rtnImgSeCode': '209002|209002|209002|209002|209002|209006',\n",
       "      'rtnOrginlFileNm': 'Caryotamitis공작야자.jpg|야자류-공작야자(1).jpg|야자류-공작야자(5).jpg|야자류-공작야자(8).jpg|야자류-공작야자(9).jpg|야자류-공작야자(10).jpg',\n",
       "      'rtnStreFileNm': '12957_MF_ATTACH_01.jpg|12957_MF_ATTACH_02.jpg|12957_MF_ATTACH_03.jpg|12957_MF_ATTACH_04.jpg|12957_MF_ATTACH_05.jpg|12957_MF_REPR_ATTACH_01.jpg',\n",
       "      'rtnThumbFileNm': '12957_MF_ATTACH_01_TMB.jpg|12957_MF_ATTACH_02_TMB.jpg|12957_MF_ATTACH_03_TMB.jpg|12957_MF_ATTACH_04_TMB.jpg|12957_MF_ATTACH_05_TMB.jpg|12957_MF_REPR_ATTACH_01_TMB.jpg'},\n",
       "     {'cntntsNo': '12962',\n",
       "      'cntntsSj': '관엽베고니아',\n",
       "      'rtnFileCours': 'cms_contents/301|cms_contents/301|cms_contents/301',\n",
       "      'rtnFileSeCode': '185002|185002|185002',\n",
       "      'rtnFileSn': '1|2|3',\n",
       "      'rtnImageDc': '관엽베고니아|관엽베고니아|관엽베고니아',\n",
       "      'rtnImgSeCode': '209002|209002|209006',\n",
       "      'rtnOrginlFileNm': 'IMG_0581.jpg|IMG_0582.jpg|BegoniaRexSalsa.jpg',\n",
       "      'rtnStreFileNm': '12962_MF_ATTACH_01.jpg|12962_MF_ATTACH_02.jpg|12962_MF_REPR_ATTACH_01.jpg',\n",
       "      'rtnThumbFileNm': '12962_MF_ATTACH_01_TMB.jpg|12962_MF_ATTACH_02_TMB.jpg|12962_MF_REPR_ATTACH_01_TMB.jpg'},\n",
       "     {'cntntsNo': '12963',\n",
       "      'cntntsSj': '관음죽',\n",
       "      'rtnFileCours': 'cms_contents/301|cms_contents/301|cms_contents/301|cms_contents/301|cms_contents/301|cms_contents/301|cms_contents/301|cms_contents/301',\n",
       "      'rtnFileSeCode': '185002|185002|185002|185002|185002|185002|185002|185002',\n",
       "      'rtnFileSn': '1|2|3|4|5|6|7|8',\n",
       "      'rtnImageDc': '관음죽|관음죽|관음죽|관음죽|관음죽|관음죽|관음죽|관음죽',\n",
       "      'rtnImgSeCode': '209002|209002|209002|209002|209002|209002|209002|209006',\n",
       "      'rtnOrginlFileNm': 'P20017_관음죽.jpg|Rhapisexcelsa관음죽(1).jpg|관음죽(3).jpg|관음죽(5).jpg|관음죽(9).jpg|관음죽.jpg|관음죽1.jpg|관음죽(10).jpg',\n",
       "      'rtnStreFileNm': '12963_MF_ATTACH_01.jpg|12963_MF_ATTACH_02.jpg|12963_MF_ATTACH_03.jpg|12963_MF_ATTACH_04.jpg|12963_MF_ATTACH_05.jpg|12963_MF_ATTACH_06.jpg|12963_MF_ATTACH_07.jpg|12963_MF_REPR_ATTACH_01.jpg',\n",
       "      'rtnThumbFileNm': '12963_MF_ATTACH_01_TMB.jpg|12963_MF_ATTACH_02_TMB.jpg|12963_MF_ATTACH_03_TMB.jpg|12963_MF_ATTACH_04_TMB.jpg|12963_MF_ATTACH_05_TMB.jpg|12963_MF_ATTACH_06_TMB.jpg|12963_MF_ATTACH_07_TMB.jpg|12963_MF_REPR_ATTACH_01_TMB.jpg'},\n",
       "     {'cntntsNo': '12966',\n",
       "      'cntntsSj': '구문초',\n",
       "      'rtnFileCours': 'cms_contents/301|cms_contents/301',\n",
       "      'rtnFileSeCode': '185002|185002',\n",
       "      'rtnFileSn': '1|2',\n",
       "      'rtnImageDc': '구문초|구문초',\n",
       "      'rtnImgSeCode': '209002|209006',\n",
       "      'rtnOrginlFileNm': '구문초1.jpg|P1040032.jpg',\n",
       "      'rtnStreFileNm': '12966_MF_ATTACH_01.jpg|12966_MF_REPR_ATTACH_01.jpg',\n",
       "      'rtnThumbFileNm': '12966_MF_ATTACH_01_TMB.jpg|12966_MF_REPR_ATTACH_01_TMB.jpg'},\n",
       "     {'cntntsNo': '12972',\n",
       "      'cntntsSj': '구즈마니아',\n",
       "      'rtnFileCours': 'cms_contents/301|cms_contents/301|cms_contents/301|cms_contents/301|cms_contents/301|cms_contents/301|cms_contents/301|cms_contents/301',\n",
       "      'rtnFileSeCode': '185002|185002|185002|185002|185002|185002|185002|185002',\n",
       "      'rtnFileSn': '1|2|3|4|5|6|7|8',\n",
       "      'rtnImageDc': '구즈마니아|구즈마니아|구즈마니아|구즈마니아|구즈마니아|구즈마니아|구즈마니아|구즈마니아',\n",
       "      'rtnImgSeCode': '209002|209002|209002|209002|209002|209002|209002|209006',\n",
       "      'rtnOrginlFileNm': '구즈마니아-1.jpg|구즈마니아-첼리-복합색상(1).jpg|구즈마니아-첼리-복합색상(2).jpg|구즈마니아-첼리-복합색상.jpg|구즈마니아-첼리-분홍.jpg|구즈마니아-첼리-빨강(1).jpg|구즈마니아-첼리-빨강.jpg|구즈마니아첼리-노랑1(2).jpg',\n",
       "      'rtnStreFileNm': '12972_MF_ATTACH_01.jpg|12972_MF_ATTACH_02.jpg|12972_MF_ATTACH_03.jpg|12972_MF_ATTACH_04.jpg|12972_MF_ATTACH_05.jpg|12972_MF_ATTACH_06.jpg|12972_MF_ATTACH_07.jpg|12972_MF_REPR_ATTACH_01.jpg',\n",
       "      'rtnThumbFileNm': '12972_MF_ATTACH_01_TMB.jpg|12972_MF_ATTACH_02_TMB.jpg|12972_MF_ATTACH_03_TMB.jpg|12972_MF_ATTACH_04_TMB.jpg|12972_MF_ATTACH_05_TMB.jpg|12972_MF_ATTACH_06_TMB.jpg|12972_MF_ATTACH_07_TMB.jpg|12972_MF_REPR_ATTACH_01_TMB.jpg'},\n",
       "     {'cntntsNo': '12974',\n",
       "      'cntntsSj': '군자란',\n",
       "      'rtnFileCours': 'cms_contents/301|cms_contents/301|cms_contents/301|cms_contents/301|cms_contents/301|cms_contents/301|cms_contents/301',\n",
       "      'rtnFileSeCode': '185002|185002|185002|185002|185002|185002|185002',\n",
       "      'rtnFileSn': '1|2|3|4|5|6|7',\n",
       "      'rtnImageDc': '군자란|군자란|군자란|군자란|군자란|군자란|군자란',\n",
       "      'rtnImgSeCode': '209002|209002|209002|209002|209002|209002|209006',\n",
       "      'rtnOrginlFileNm': '군자란(1).jpg|군자란(2).jpg|군자란(3).jpg|군자란(7).jpg|군자란(10).jpg|군자란-종자3.jpg|군자란-종자11.jpg',\n",
       "      'rtnStreFileNm': '12974_MF_ATTACH_01.jpg|12974_MF_ATTACH_02.jpg|12974_MF_ATTACH_03.jpg|12974_MF_ATTACH_04.jpg|12974_MF_ATTACH_05.jpg|12974_MF_ATTACH_06.jpg|12974_MF_REPR_ATTACH_01.jpg',\n",
       "      'rtnThumbFileNm': '12974_MF_ATTACH_01_TMB.jpg|12974_MF_ATTACH_02_TMB.jpg|12974_MF_ATTACH_03_TMB.jpg|12974_MF_ATTACH_04_TMB.jpg|12974_MF_ATTACH_05_TMB.jpg|12974_MF_ATTACH_06_TMB.jpg|12974_MF_REPR_ATTACH_01_TMB.jpg'},\n",
       "     {'cntntsNo': '12988',\n",
       "      'cntntsSj': '글레코마',\n",
       "      'rtnFileCours': 'cms_contents/301|cms_contents/301',\n",
       "      'rtnFileSeCode': '185002|185002',\n",
       "      'rtnFileSn': '1|2',\n",
       "      'rtnImageDc': '글레코마|글레코마',\n",
       "      'rtnImgSeCode': '209002|209006',\n",
       "      'rtnOrginlFileNm': 'Glechoma.jpg|P1100849.jpg',\n",
       "      'rtnStreFileNm': '12988_MF_ATTACH_01.jpg|12988_MF_REPR_ATTACH_01.jpg',\n",
       "      'rtnThumbFileNm': '12988_MF_ATTACH_01_TMB.jpg|12988_MF_REPR_ATTACH_01_TMB.jpg'}],\n",
       "    'numOfRows': '10',\n",
       "    'pageNo': '1',\n",
       "    'totalCount': '217'}}}}"
      ]
     },
     "execution_count": 7,
     "metadata": {},
     "output_type": "execute_result"
    }
   ],
   "source": [
    "import xmltodict\n",
    "import json\n",
    "req = requests.get(open_url)\n",
    "\n",
    "xpars = xmltodict.parse(req.text)\n",
    "\n",
    "jsonDump = json.dumps(xpars)\n",
    "\n",
    "jsonBody = json.loads(jsonDump)\n",
    "jsonBody"
   ]
  },
  {
   "cell_type": "code",
   "execution_count": 33,
   "id": "523f0ec3",
   "metadata": {},
   "outputs": [],
   "source": [
    "res = requests.get(open_url)\n",
    "soup = BeautifulSoup(res.content, 'html.parser')"
   ]
  },
  {
   "cell_type": "code",
   "execution_count": 30,
   "id": "afd41147",
   "metadata": {},
   "outputs": [],
   "source": [
    "from bs4 import BeautifulSoup"
   ]
  },
  {
   "cell_type": "code",
   "execution_count": 27,
   "id": "7ed50460",
   "metadata": {},
   "outputs": [],
   "source": [
    "import xml.etree.ElementTree as ET"
   ]
  },
  {
   "cell_type": "code",
   "execution_count": 34,
   "id": "f310a402",
   "metadata": {},
   "outputs": [
    {
     "data": {
      "text/plain": [
       "<?xml version=\"1.0\" encoding=\"UTF-8\"?>\n",
       "<response><header><resultcode>00</resultcode><resultmsg>정상적으로 처리되었습니다.</resultmsg><requestparameter></requestparameter></header><body><items><item><cntntsno><![CDATA[12938]]></cntntsno><cntntssj><![CDATA[가울테리아]]></cntntssj><rtnfilecours><![CDATA[cms_contents/301|cms_contents/301|cms_contents/301|cms_contents/301|cms_contents/301|cms_contents/301|cms_contents/301]]></rtnfilecours><rtnfilesecode><![CDATA[185002|185002|185002|185002|185002|185002|185002]]></rtnfilesecode><rtnfilesn><![CDATA[1|2|3|4|5|6|7]]></rtnfilesn><rtnimagedc><![CDATA[가울테리아|가울테리아|가울테리아|가울테리아|가울테리아|가울테리아|가울테리아]]></rtnimagedc><rtnimgsecode><![CDATA[209002|209002|209002|209002|209002|209002|209006]]></rtnimgsecode><rtnorginlfilenm><![CDATA[가울테리아(1).jpg|가울테리아1(5).jpg|가울테리아1(6).jpg|가울테리아1(7).jpg|가울테리아1(8).jpg|가울테리아1(10).jpg|가울테리아1(12).jpg]]></rtnorginlfilenm><rtnstrefilenm><![CDATA[12938_MF_ATTACH_01.jpg|12938_MF_ATTACH_02.jpg|12938_MF_ATTACH_03.jpg|12938_MF_ATTACH_04.jpg|12938_MF_ATTACH_05.jpg|12938_MF_ATTACH_06.jpg|12938_MF_REPR_ATTACH_01.jpg]]></rtnstrefilenm><rtnthumbfilenm><![CDATA[12938_MF_ATTACH_01_TMB.jpg|12938_MF_ATTACH_02_TMB.jpg|12938_MF_ATTACH_03_TMB.jpg|12938_MF_ATTACH_04_TMB.jpg|12938_MF_ATTACH_05_TMB.jpg|12938_MF_ATTACH_06_TMB.jpg|12938_MF_REPR_ATTACH_01_TMB.jpg]]></rtnthumbfilenm></item><item><cntntsno><![CDATA[12954]]></cntntsno><cntntssj><![CDATA[개운죽]]></cntntssj><rtnfilecours><![CDATA[cms_contents/301|cms_contents/301|cms_contents/301|cms_contents/301|cms_contents/301|cms_contents/301]]></rtnfilecours><rtnfilesecode><![CDATA[185002|185002|185002|185002|185002|185002]]></rtnfilesecode><rtnfilesn><![CDATA[1|2|3|4|5|6]]></rtnfilesn><rtnimagedc><![CDATA[개운죽|개운죽|개운죽|개운죽|개운죽|개운죽]]></rtnimagedc><rtnimgsecode><![CDATA[209002|209002|209002|209002|209002|209006]]></rtnimgsecode><rtnorginlfilenm><![CDATA[개운죽.jpg|드라세나산데나리아1.jpg|드라세나산데나리아1(1).jpg|드라세나산데나리아1(2).jpg|드라세나산데나리아1(3).jpg|드라세나산데나리아1(7).jpg]]></rtnorginlfilenm><rtnstrefilenm><![CDATA[12954_MF_ATTACH_01.jpg|12954_MF_ATTACH_02.jpg|12954_MF_ATTACH_03.jpg|12954_MF_ATTACH_04.jpg|12954_MF_ATTACH_05.jpg|12954_MF_REPR_ATTACH_01.jpg]]></rtnstrefilenm><rtnthumbfilenm><![CDATA[12954_MF_ATTACH_01_TMB.jpg|12954_MF_ATTACH_02_TMB.jpg|12954_MF_ATTACH_03_TMB.jpg|12954_MF_ATTACH_04_TMB.jpg|12954_MF_ATTACH_05_TMB.jpg|12954_MF_REPR_ATTACH_01_TMB.jpg]]></rtnthumbfilenm></item><item><cntntsno><![CDATA[12955]]></cntntsno><cntntssj><![CDATA[골드크레스트 '윌마']]></cntntssj><rtnfilecours><![CDATA[cms_contents/301|cms_contents/301|cms_contents/301|cms_contents/301|cms_contents/301|cms_contents/301|cms_contents/301|cms_contents/301|cms_contents/301]]></rtnfilecours><rtnfilesecode><![CDATA[185002|185002|185002|185002|185002|185002|185002|185002|185002]]></rtnfilesecode><rtnfilesn><![CDATA[1|2|3|4|5|6|7|8|9]]></rtnfilesn><rtnimagedc><![CDATA[골드크레스트 '윌마' 중|골드크레스트 '윌마' 하|골드크레스트 '윌마'|골드크레스트 '윌마'|골드크레스트 '윌마'|골드크레스트 '윌마'|골드크레스트 '윌마'|골드크레스트 '윌마'|골드크레스트 '윌마']]></rtnimagedc><rtnimgsecode><![CDATA[209002|209002|209002|209002|209002|209002|209002|209002|209006]]></rtnimgsecode><rtnorginlfilenm><![CDATA[P20013_골드크레스트윌마_중.jpg|P30032_골드크레스트윌마_하.jpg|골드크레스트-윌마(1).jpg|골드크레스트-윌마(5).jpg|골드크레스트-윌마(7).jpg|골드크레스트-윌마(11).jpg|골드크레스트-윌마(15).jpg|골드크레스트-윌마(19).jpg|골드크레스트-윌마(32).jpg]]></rtnorginlfilenm><rtnstrefilenm><![CDATA[12955_MF_ATTACH_01.jpg|12955_MF_ATTACH_02.jpg|12955_MF_ATTACH_03.jpg|12955_MF_ATTACH_04.jpg|12955_MF_ATTACH_05.jpg|12955_MF_ATTACH_06.jpg|12955_MF_ATTACH_07.jpg|12955_MF_ATTACH_08.jpg|12955_MF_REPR_ATTACH_01.jpg]]></rtnstrefilenm><rtnthumbfilenm><![CDATA[12955_MF_ATTACH_01_TMB.jpg|12955_MF_ATTACH_02_TMB.jpg|12955_MF_ATTACH_03_TMB.jpg|12955_MF_ATTACH_04_TMB.jpg|12955_MF_ATTACH_05_TMB.jpg|12955_MF_ATTACH_06_TMB.jpg|12955_MF_ATTACH_07_TMB.jpg|12955_MF_ATTACH_08_TMB.jpg|12955_MF_REPR_ATTACH_01_TMB.jpg]]></rtnthumbfilenm></item><item><cntntsno><![CDATA[12957]]></cntntsno><cntntssj><![CDATA[공작야자]]></cntntssj><rtnfilecours><![CDATA[cms_contents/301|cms_contents/301|cms_contents/301|cms_contents/301|cms_contents/301|cms_contents/301]]></rtnfilecours><rtnfilesecode><![CDATA[185002|185002|185002|185002|185002|185002]]></rtnfilesecode><rtnfilesn><![CDATA[1|2|3|4|5|6]]></rtnfilesn><rtnimagedc><![CDATA[공작야자|공작야자|공작야자|공작야자|공작야자|공작야자]]></rtnimagedc><rtnimgsecode><![CDATA[209002|209002|209002|209002|209002|209006]]></rtnimgsecode><rtnorginlfilenm><![CDATA[Caryotamitis공작야자.jpg|야자류-공작야자(1).jpg|야자류-공작야자(5).jpg|야자류-공작야자(8).jpg|야자류-공작야자(9).jpg|야자류-공작야자(10).jpg]]></rtnorginlfilenm><rtnstrefilenm><![CDATA[12957_MF_ATTACH_01.jpg|12957_MF_ATTACH_02.jpg|12957_MF_ATTACH_03.jpg|12957_MF_ATTACH_04.jpg|12957_MF_ATTACH_05.jpg|12957_MF_REPR_ATTACH_01.jpg]]></rtnstrefilenm><rtnthumbfilenm><![CDATA[12957_MF_ATTACH_01_TMB.jpg|12957_MF_ATTACH_02_TMB.jpg|12957_MF_ATTACH_03_TMB.jpg|12957_MF_ATTACH_04_TMB.jpg|12957_MF_ATTACH_05_TMB.jpg|12957_MF_REPR_ATTACH_01_TMB.jpg]]></rtnthumbfilenm></item><item><cntntsno><![CDATA[12962]]></cntntsno><cntntssj><![CDATA[관엽베고니아]]></cntntssj><rtnfilecours><![CDATA[cms_contents/301|cms_contents/301|cms_contents/301]]></rtnfilecours><rtnfilesecode><![CDATA[185002|185002|185002]]></rtnfilesecode><rtnfilesn><![CDATA[1|2|3]]></rtnfilesn><rtnimagedc><![CDATA[관엽베고니아|관엽베고니아|관엽베고니아]]></rtnimagedc><rtnimgsecode><![CDATA[209002|209002|209006]]></rtnimgsecode><rtnorginlfilenm><![CDATA[IMG_0581.jpg|IMG_0582.jpg|BegoniaRexSalsa.jpg]]></rtnorginlfilenm><rtnstrefilenm><![CDATA[12962_MF_ATTACH_01.jpg|12962_MF_ATTACH_02.jpg|12962_MF_REPR_ATTACH_01.jpg]]></rtnstrefilenm><rtnthumbfilenm><![CDATA[12962_MF_ATTACH_01_TMB.jpg|12962_MF_ATTACH_02_TMB.jpg|12962_MF_REPR_ATTACH_01_TMB.jpg]]></rtnthumbfilenm></item><item><cntntsno><![CDATA[12963]]></cntntsno><cntntssj><![CDATA[관음죽]]></cntntssj><rtnfilecours><![CDATA[cms_contents/301|cms_contents/301|cms_contents/301|cms_contents/301|cms_contents/301|cms_contents/301|cms_contents/301|cms_contents/301]]></rtnfilecours><rtnfilesecode><![CDATA[185002|185002|185002|185002|185002|185002|185002|185002]]></rtnfilesecode><rtnfilesn><![CDATA[1|2|3|4|5|6|7|8]]></rtnfilesn><rtnimagedc><![CDATA[관음죽|관음죽|관음죽|관음죽|관음죽|관음죽|관음죽|관음죽]]></rtnimagedc><rtnimgsecode><![CDATA[209002|209002|209002|209002|209002|209002|209002|209006]]></rtnimgsecode><rtnorginlfilenm><![CDATA[P20017_관음죽.jpg|Rhapisexcelsa관음죽(1).jpg|관음죽(3).jpg|관음죽(5).jpg|관음죽(9).jpg|관음죽.jpg|관음죽1.jpg|관음죽(10).jpg]]></rtnorginlfilenm><rtnstrefilenm><![CDATA[12963_MF_ATTACH_01.jpg|12963_MF_ATTACH_02.jpg|12963_MF_ATTACH_03.jpg|12963_MF_ATTACH_04.jpg|12963_MF_ATTACH_05.jpg|12963_MF_ATTACH_06.jpg|12963_MF_ATTACH_07.jpg|12963_MF_REPR_ATTACH_01.jpg]]></rtnstrefilenm><rtnthumbfilenm><![CDATA[12963_MF_ATTACH_01_TMB.jpg|12963_MF_ATTACH_02_TMB.jpg|12963_MF_ATTACH_03_TMB.jpg|12963_MF_ATTACH_04_TMB.jpg|12963_MF_ATTACH_05_TMB.jpg|12963_MF_ATTACH_06_TMB.jpg|12963_MF_ATTACH_07_TMB.jpg|12963_MF_REPR_ATTACH_01_TMB.jpg]]></rtnthumbfilenm></item><item><cntntsno><![CDATA[12966]]></cntntsno><cntntssj><![CDATA[구문초]]></cntntssj><rtnfilecours><![CDATA[cms_contents/301|cms_contents/301]]></rtnfilecours><rtnfilesecode><![CDATA[185002|185002]]></rtnfilesecode><rtnfilesn><![CDATA[1|2]]></rtnfilesn><rtnimagedc><![CDATA[구문초|구문초]]></rtnimagedc><rtnimgsecode><![CDATA[209002|209006]]></rtnimgsecode><rtnorginlfilenm><![CDATA[구문초1.jpg|P1040032.jpg]]></rtnorginlfilenm><rtnstrefilenm><![CDATA[12966_MF_ATTACH_01.jpg|12966_MF_REPR_ATTACH_01.jpg]]></rtnstrefilenm><rtnthumbfilenm><![CDATA[12966_MF_ATTACH_01_TMB.jpg|12966_MF_REPR_ATTACH_01_TMB.jpg]]></rtnthumbfilenm></item><item><cntntsno><![CDATA[12972]]></cntntsno><cntntssj><![CDATA[구즈마니아]]></cntntssj><rtnfilecours><![CDATA[cms_contents/301|cms_contents/301|cms_contents/301|cms_contents/301|cms_contents/301|cms_contents/301|cms_contents/301|cms_contents/301]]></rtnfilecours><rtnfilesecode><![CDATA[185002|185002|185002|185002|185002|185002|185002|185002]]></rtnfilesecode><rtnfilesn><![CDATA[1|2|3|4|5|6|7|8]]></rtnfilesn><rtnimagedc><![CDATA[구즈마니아|구즈마니아|구즈마니아|구즈마니아|구즈마니아|구즈마니아|구즈마니아|구즈마니아]]></rtnimagedc><rtnimgsecode><![CDATA[209002|209002|209002|209002|209002|209002|209002|209006]]></rtnimgsecode><rtnorginlfilenm><![CDATA[구즈마니아-1.jpg|구즈마니아-첼리-복합색상(1).jpg|구즈마니아-첼리-복합색상(2).jpg|구즈마니아-첼리-복합색상.jpg|구즈마니아-첼리-분홍.jpg|구즈마니아-첼리-빨강(1).jpg|구즈마니아-첼리-빨강.jpg|구즈마니아첼리-노랑1(2).jpg]]></rtnorginlfilenm><rtnstrefilenm><![CDATA[12972_MF_ATTACH_01.jpg|12972_MF_ATTACH_02.jpg|12972_MF_ATTACH_03.jpg|12972_MF_ATTACH_04.jpg|12972_MF_ATTACH_05.jpg|12972_MF_ATTACH_06.jpg|12972_MF_ATTACH_07.jpg|12972_MF_REPR_ATTACH_01.jpg]]></rtnstrefilenm><rtnthumbfilenm><![CDATA[12972_MF_ATTACH_01_TMB.jpg|12972_MF_ATTACH_02_TMB.jpg|12972_MF_ATTACH_03_TMB.jpg|12972_MF_ATTACH_04_TMB.jpg|12972_MF_ATTACH_05_TMB.jpg|12972_MF_ATTACH_06_TMB.jpg|12972_MF_ATTACH_07_TMB.jpg|12972_MF_REPR_ATTACH_01_TMB.jpg]]></rtnthumbfilenm></item><item><cntntsno><![CDATA[12974]]></cntntsno><cntntssj><![CDATA[군자란]]></cntntssj><rtnfilecours><![CDATA[cms_contents/301|cms_contents/301|cms_contents/301|cms_contents/301|cms_contents/301|cms_contents/301|cms_contents/301]]></rtnfilecours><rtnfilesecode><![CDATA[185002|185002|185002|185002|185002|185002|185002]]></rtnfilesecode><rtnfilesn><![CDATA[1|2|3|4|5|6|7]]></rtnfilesn><rtnimagedc><![CDATA[군자란|군자란|군자란|군자란|군자란|군자란|군자란]]></rtnimagedc><rtnimgsecode><![CDATA[209002|209002|209002|209002|209002|209002|209006]]></rtnimgsecode><rtnorginlfilenm><![CDATA[군자란(1).jpg|군자란(2).jpg|군자란(3).jpg|군자란(7).jpg|군자란(10).jpg|군자란-종자3.jpg|군자란-종자11.jpg]]></rtnorginlfilenm><rtnstrefilenm><![CDATA[12974_MF_ATTACH_01.jpg|12974_MF_ATTACH_02.jpg|12974_MF_ATTACH_03.jpg|12974_MF_ATTACH_04.jpg|12974_MF_ATTACH_05.jpg|12974_MF_ATTACH_06.jpg|12974_MF_REPR_ATTACH_01.jpg]]></rtnstrefilenm><rtnthumbfilenm><![CDATA[12974_MF_ATTACH_01_TMB.jpg|12974_MF_ATTACH_02_TMB.jpg|12974_MF_ATTACH_03_TMB.jpg|12974_MF_ATTACH_04_TMB.jpg|12974_MF_ATTACH_05_TMB.jpg|12974_MF_ATTACH_06_TMB.jpg|12974_MF_REPR_ATTACH_01_TMB.jpg]]></rtnthumbfilenm></item><item><cntntsno><![CDATA[12988]]></cntntsno><cntntssj><![CDATA[글레코마]]></cntntssj><rtnfilecours><![CDATA[cms_contents/301|cms_contents/301]]></rtnfilecours><rtnfilesecode><![CDATA[185002|185002]]></rtnfilesecode><rtnfilesn><![CDATA[1|2]]></rtnfilesn><rtnimagedc><![CDATA[글레코마|글레코마]]></rtnimagedc><rtnimgsecode><![CDATA[209002|209006]]></rtnimgsecode><rtnorginlfilenm><![CDATA[Glechoma.jpg|P1100849.jpg]]></rtnorginlfilenm><rtnstrefilenm><![CDATA[12988_MF_ATTACH_01.jpg|12988_MF_REPR_ATTACH_01.jpg]]></rtnstrefilenm><rtnthumbfilenm><![CDATA[12988_MF_ATTACH_01_TMB.jpg|12988_MF_REPR_ATTACH_01_TMB.jpg]]></rtnthumbfilenm></item><numofrows>10</numofrows><pageno>1</pageno><totalcount>217</totalcount></items></body></response>"
      ]
     },
     "execution_count": 34,
     "metadata": {},
     "output_type": "execute_result"
    }
   ],
   "source": [
    "soup"
   ]
  },
  {
   "cell_type": "code",
   "execution_count": null,
   "id": "b8d700f9",
   "metadata": {},
   "outputs": [],
   "source": []
  }
 ],
 "metadata": {
  "kernelspec": {
   "display_name": "Python 3",
   "language": "python",
   "name": "python3"
  },
  "language_info": {
   "codemirror_mode": {
    "name": "ipython",
    "version": 3
   },
   "file_extension": ".py",
   "mimetype": "text/x-python",
   "name": "python",
   "nbconvert_exporter": "python",
   "pygments_lexer": "ipython3",
   "version": "3.8.10"
  }
 },
 "nbformat": 4,
 "nbformat_minor": 5
}
